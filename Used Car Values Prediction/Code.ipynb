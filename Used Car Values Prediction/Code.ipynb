{
 "cells": [
  {
   "cell_type": "markdown",
   "id": "9b539dbd",
   "metadata": {},
   "source": [
    "# DSC 550\n",
    "# Week 5\n",
    "# Project Milestone 1\n",
    "# Author: Muthukumar Kadhirvel\n",
    "# 7/8/2022"
   ]
  },
  {
   "cell_type": "markdown",
   "id": "dbe2d1f0",
   "metadata": {},
   "source": [
    "I have always wondered about how companies price various used products like cars/laptops/mobile phones etc. as there is no clear way to arrive at the price compared to new products. With new products you have complete control of the various components that go into building the product and so we can add the requisite profit margin and price the same. But with used products there are a lot of unknowns and so this seems like a wonderful area to practice our data mining skillset.\n",
    "\n",
    "In this project we will work with a dataset that has prices of used cars from India. The dataset can be downloaded from the below URL.\n",
    "https://www.kaggle.com/datasets/avikasliwal/used-cars-price-prediction?select=train-data.csv. \n",
    "\n",
    "Using the properties of various used cars like Location/Year/Driven Kilometers/Fuel Type/Transmission Type/Owner Type/Mileage/Engine power/Seats/Price etc. we can come with a model that can predict the price of any car that can come into the system. This would be useful for any business that deals with used cars like a car sales company/website that lists the used cars from various companies for sale.\n",
    "\n",
    "We will first clean and transform the data as required as there are some categorical variables that cannot be used in data mining and hence can be dropped. Then we can perform Exploratory Data Analysis (EDA) and prepare the data for modeling. Once the data is prepared we can split the data into training dataset and test dataset and then build the model on the training dataset. Once the model is ready we can use it to apply prediction on the test dataset and evaluate the same for accuracy."
   ]
  },
  {
   "cell_type": "markdown",
   "id": "082ac984",
   "metadata": {},
   "source": [
    "Install necessary packages and read used_cars file"
   ]
  },
  {
   "cell_type": "code",
   "execution_count": 1,
   "id": "703cf72f",
   "metadata": {},
   "outputs": [
    {
     "name": "stdout",
     "output_type": "stream",
     "text": [
      "   Unnamed: 0                              Name    Location  Year  \\\n",
      "0           0            Maruti Wagon R LXI CNG      Mumbai  2010   \n",
      "1           1  Hyundai Creta 1.6 CRDi SX Option        Pune  2015   \n",
      "2           2                      Honda Jazz V     Chennai  2011   \n",
      "3           3                 Maruti Ertiga VDI     Chennai  2012   \n",
      "4           4   Audi A4 New 2.0 TDI Multitronic  Coimbatore  2013   \n",
      "\n",
      "   Kilometers_Driven Fuel_Type Transmission Owner_Type     Mileage   Engine  \\\n",
      "0              72000       CNG       Manual      First  26.6 km/kg   998 CC   \n",
      "1              41000    Diesel       Manual      First  19.67 kmpl  1582 CC   \n",
      "2              46000    Petrol       Manual      First   18.2 kmpl  1199 CC   \n",
      "3              87000    Diesel       Manual      First  20.77 kmpl  1248 CC   \n",
      "4              40670    Diesel    Automatic     Second   15.2 kmpl  1968 CC   \n",
      "\n",
      "       Power  Seats  New_Price  Price  \n",
      "0  58.16 bhp    5.0        NaN   1.75  \n",
      "1  126.2 bhp    5.0        NaN  12.50  \n",
      "2   88.7 bhp    5.0  8.61 Lakh   4.50  \n",
      "3  88.76 bhp    7.0        NaN   6.00  \n",
      "4  140.8 bhp    5.0        NaN  17.74  \n",
      "(6019, 14)\n",
      "   Year  Kilometers_Driven Fuel_Type Transmission Owner_Type     Mileage  \\\n",
      "0  2010              72000       CNG       Manual      First  26.6 km/kg   \n",
      "1  2015              41000    Diesel       Manual      First  19.67 kmpl   \n",
      "2  2011              46000    Petrol       Manual      First   18.2 kmpl   \n",
      "3  2012              87000    Diesel       Manual      First  20.77 kmpl   \n",
      "4  2013              40670    Diesel    Automatic     Second   15.2 kmpl   \n",
      "\n",
      "    Engine      Power  Seats  Price  \n",
      "0   998 CC  58.16 bhp    5.0   1.75  \n",
      "1  1582 CC  126.2 bhp    5.0  12.50  \n",
      "2  1199 CC   88.7 bhp    5.0   4.50  \n",
      "3  1248 CC  88.76 bhp    7.0   6.00  \n",
      "4  1968 CC  140.8 bhp    5.0  17.74  \n",
      "(6019, 10)\n"
     ]
    }
   ],
   "source": [
    "import pandas as pd\n",
    "import matplotlib.pyplot as plt\n",
    "used_cars_df = pd.read_csv('used_cars.csv')\n",
    "print(used_cars_df.head())\n",
    "print(used_cars_df.shape)\n",
    "# Name/Location/New_Price can be removed as they are variables with no context for our project\n",
    "used_cars_df.drop(['Unnamed: 0','Name','Location','New_Price'],axis=1, inplace=True)\n",
    "print(used_cars_df.head())\n",
    "print(used_cars_df.shape)"
   ]
  },
  {
   "cell_type": "markdown",
   "id": "c7f44d15",
   "metadata": {},
   "source": [
    "We can see there are 6019 rows and 10 columns and there is a mix of numerical and categorical data and the target of the model will be Price."
   ]
  },
  {
   "cell_type": "markdown",
   "id": "f27cc790",
   "metadata": {},
   "source": [
    "Prep the data"
   ]
  },
  {
   "cell_type": "code",
   "execution_count": 2,
   "id": "91eb8caa",
   "metadata": {},
   "outputs": [
    {
     "name": "stdout",
     "output_type": "stream",
     "text": [
      "Year                   int64\n",
      "Kilometers_Driven      int64\n",
      "Fuel_Type             object\n",
      "Transmission          object\n",
      "Owner_Type            object\n",
      "Mileage               object\n",
      "Engine                object\n",
      "Power                 object\n",
      "Seats                float64\n",
      "Price                float64\n",
      "dtype: object\n",
      "              Year  Kilometers_Driven        Seats        Price\n",
      "count  6019.000000       6.019000e+03  5977.000000  6019.000000\n",
      "mean   2013.358199       5.873838e+04     5.278735     9.479468\n",
      "std       3.269742       9.126884e+04     0.808840    11.187917\n",
      "min    1998.000000       1.710000e+02     0.000000     0.440000\n",
      "25%    2011.000000       3.400000e+04     5.000000     3.500000\n",
      "50%    2014.000000       5.300000e+04     5.000000     5.640000\n",
      "75%    2016.000000       7.300000e+04     5.000000     9.950000\n",
      "max    2019.000000       6.500000e+06    10.000000   160.000000\n",
      "       Fuel_Type Transmission Owner_Type    Mileage   Engine   Power\n",
      "count       6019         6019       6019       6017     5983    5983\n",
      "unique         5            2          4        442      146     372\n",
      "top       Diesel       Manual      First  18.9 kmpl  1197 CC  74 bhp\n",
      "freq        3205         4299       4929        172      606     235\n"
     ]
    }
   ],
   "source": [
    "# Explore properties of data\n",
    "print(used_cars_df.dtypes)\n",
    "print(used_cars_df.describe())\n",
    "print(used_cars_df.describe(include = ['O']))\n",
    "# Fuel_Type/Transmission/Owner_Type/Mileage/Engine/Power columns are stored as object"
   ]
  },
  {
   "cell_type": "markdown",
   "id": "86eb8872",
   "metadata": {},
   "source": [
    "Create Histograms for numerical data of Year & Seats"
   ]
  },
  {
   "cell_type": "code",
   "execution_count": 3,
   "id": "2e6de5eb",
   "metadata": {},
   "outputs": [
    {
     "data": {
      "image/png": "[encoded data removed]",
      "text/plain": [
       "<Figure size 432x288 with 1 Axes>"
      ]
     },
     "metadata": {
      "needs_background": "light"
     },
     "output_type": "display_data"
    },
    {
     "data": {
      "image/png": "[encoded data removed]",
      "text/plain": [
       "<Figure size 432x288 with 1 Axes>"
      ]
     },
     "metadata": {
      "needs_background": "light"
     },
     "output_type": "display_data"
    }
   ],
   "source": [
    "plt.title(\"Histogram of Year\")\n",
    "plt.hist(used_cars_df.Year.dropna())\n",
    "plt.xlabel(\"Year\")\n",
    "plt.ylabel(\"Count\")\n",
    "plt.show()\n",
    "plt.title(\"Histogram of Seats\")\n",
    "plt.hist(used_cars_df.Seats.dropna())\n",
    "plt.xlabel(\"Seats\")\n",
    "plt.ylabel(\"Count\")\n",
    "plt.show()"
   ]
  },
  {
   "cell_type": "markdown",
   "id": "0f528623",
   "metadata": {},
   "source": [
    "Create Barcharts for categorical data of Fuel_Type & Transmission & Owner_Type"
   ]
  },
  {
   "cell_type": "code",
   "execution_count": 4,
   "id": "7bd998e6",
   "metadata": {},
   "outputs": [
    {
     "data": {
      "image/png": "[encoded data removed]",
      "text/plain": [
       "<Figure size 432x288 with 1 Axes>"
      ]
     },
     "metadata": {
      "needs_background": "light"
     },
     "output_type": "display_data"
    },
    {
     "data": {
      "image/png": "[encoded data removed]",
      "text/plain": [
       "<Figure size 432x288 with 1 Axes>"
      ]
     },
     "metadata": {
      "needs_background": "light"
     },
     "output_type": "display_data"
    },
    {
     "data": {
      "image/png": "[encoded data removed]",
      "text/plain": [
       "<Figure size 432x288 with 1 Axes>"
      ]
     },
     "metadata": {
      "needs_background": "light"
     },
     "output_type": "display_data"
    }
   ],
   "source": [
    "X_Fuel = used_cars_df.groupby('Fuel_Type').size().reset_index(name='Counts')['Fuel_Type']\n",
    "Y_Fuel = used_cars_df.groupby('Fuel_Type').size().reset_index(name='Counts')['Counts']\n",
    "plt.title(\"Barchart of Fuel Type\")\n",
    "plt.bar(X_Fuel, Y_Fuel)\n",
    "plt.xlabel(\"Fuel Type\")\n",
    "plt.ylabel(\"Count\")\n",
    "plt.show()\n",
    "X_Transmission = used_cars_df.groupby('Transmission').size().reset_index(name='Counts')['Transmission']\n",
    "Y_Transmission = used_cars_df.groupby('Transmission').size().reset_index(name='Counts')['Counts']\n",
    "plt.title(\"Barchart of Transmission\")\n",
    "plt.bar(X_Transmission, Y_Transmission)\n",
    "plt.xlabel(\"Transmission\")\n",
    "plt.ylabel(\"Count\")\n",
    "plt.show()\n",
    "X_Owner = used_cars_df.groupby('Owner_Type').size().reset_index(name='Counts')['Owner_Type']\n",
    "Y_Owner = used_cars_df.groupby('Owner_Type').size().reset_index(name='Counts')['Counts']\n",
    "plt.title(\"Barchart of Owner Type\")\n",
    "plt.bar(X_Owner, Y_Owner)\n",
    "plt.xlabel(\"Owner Type\")\n",
    "plt.ylabel(\"Count\")\n",
    "plt.show()"
   ]
  },
  {
   "cell_type": "markdown",
   "id": "035790cb",
   "metadata": {},
   "source": [
    "As we can see from the Historgrams we have many cars from the past 10 years and Ba5 seaters which is expected                   \n",
    "As we can see from the Barcharts we can see we have more Diesel & Petrol cars/Manual Transmission/First Owners                 \n",
    "Using the above graphs we can decide on the important features that we can use for data modeling"
   ]
  },
  {
   "cell_type": "markdown",
   "id": "68dc6700",
   "metadata": {},
   "source": [
    "# DSC 550\n",
    "# Week 7\n",
    "# Project Milestone 2\n",
    "# Author: Muthukumar Kadhirvel\n",
    "# 7/23/2022"
   ]
  },
  {
   "cell_type": "markdown",
   "id": "6868568d",
   "metadata": {},
   "source": [
    "Drop any features that are not useful for your model building and explain why they are not useful."
   ]
  },
  {
   "cell_type": "code",
   "execution_count": 5,
   "id": "50839d1d",
   "metadata": {},
   "outputs": [
    {
     "name": "stdout",
     "output_type": "stream",
     "text": [
      "Unnamed: 0             int64\n",
      "Name                  object\n",
      "Location              object\n",
      "Year                   int64\n",
      "Kilometers_Driven      int64\n",
      "Fuel_Type             object\n",
      "Transmission          object\n",
      "Owner_Type            object\n",
      "Mileage               object\n",
      "Engine                object\n",
      "Power                 object\n",
      "Seats                float64\n",
      "New_Price             object\n",
      "Price                float64\n",
      "dtype: object\n",
      "                          Name Location Fuel_Type Transmission Owner_Type  \\\n",
      "count                     6019     6019      6019         6019       6019   \n",
      "unique                    1876       11         5            2          4   \n",
      "top     Mahindra XUV500 W8 2WD   Mumbai    Diesel       Manual      First   \n",
      "freq                        49      790      3205         4299       4929   \n",
      "\n",
      "          Mileage   Engine   Power   New_Price  \n",
      "count        6017     5983    5983         824  \n",
      "unique        442      146     372         540  \n",
      "top     18.9 kmpl  1197 CC  74 bhp  95.13 Lakh  \n",
      "freq          172      606     235           6  \n",
      "   Year  Kilometers_Driven Fuel_Type Transmission Owner_Type     Mileage  \\\n",
      "0  2010              72000       CNG       Manual      First  26.6 km/kg   \n",
      "1  2015              41000    Diesel       Manual      First  19.67 kmpl   \n",
      "2  2011              46000    Petrol       Manual      First   18.2 kmpl   \n",
      "3  2012              87000    Diesel       Manual      First  20.77 kmpl   \n",
      "4  2013              40670    Diesel    Automatic     Second   15.2 kmpl   \n",
      "\n",
      "    Engine      Power  Seats  Price  \n",
      "0   998 CC  58.16 bhp    5.0   1.75  \n",
      "1  1582 CC  126.2 bhp    5.0  12.50  \n",
      "2  1199 CC   88.7 bhp    5.0   4.50  \n",
      "3  1248 CC  88.76 bhp    7.0   6.00  \n",
      "4  1968 CC  140.8 bhp    5.0  17.74  \n"
     ]
    }
   ],
   "source": [
    "import pandas as pd\n",
    "import numpy as np\n",
    "used_cars_df = pd.read_csv('used_cars.csv')\n",
    "# Explore properties of data\n",
    "print(used_cars_df.dtypes)\n",
    "print(used_cars_df.describe(include = ['O']))\n",
    "# Fuel_Type/Transmission/Owner_Type are pure categorical variables\n",
    "# Mileage/Engine/Power needs to be converted to numerical variables\n",
    "# Unnamed: 0 is a dummy index variable and hence can be dropped\n",
    "# Name can be removed as it is a categorical variable with a lot of non unique values\n",
    "# Location is a categorical variable with more non unique values and can be removed\n",
    "# New_Price can be removed as it is a categorical variable with a lot of non unique values\n",
    "used_cars_df.drop(['Unnamed: 0','Name','Location','New_Price'],axis=1, inplace=True)\n",
    "print(used_cars_df.head())"
   ]
  },
  {
   "cell_type": "markdown",
   "id": "89c917e6",
   "metadata": {},
   "source": [
    "Transform features if necessary."
   ]
  },
  {
   "cell_type": "code",
   "execution_count": 6,
   "id": "83f95479",
   "metadata": {},
   "outputs": [
    {
     "name": "stdout",
     "output_type": "stream",
     "text": [
      "   Year  Kilometers_Driven Fuel_Type Transmission Owner_Type  Mileage  Engine  \\\n",
      "0  2010              72000       CNG       Manual      First    37.24   998.0   \n",
      "1  2015              41000    Diesel       Manual      First    19.67  1582.0   \n",
      "2  2011              46000    Petrol       Manual      First    18.20  1199.0   \n",
      "3  2012              87000    Diesel       Manual      First    20.77  1248.0   \n",
      "4  2013              40670    Diesel    Automatic     Second    15.20  1968.0   \n",
      "\n",
      "    Power  Seats  Price  \n",
      "0   58.16    5.0   1.75  \n",
      "1  126.20    5.0  12.50  \n",
      "2   88.70    5.0   4.50  \n",
      "3   88.76    7.0   6.00  \n",
      "4  140.80    5.0  17.74  \n"
     ]
    }
   ],
   "source": [
    "# Mileage - All entries have kmpl or km/kg at the end which we can remove but convert km/kg to kmpl\n",
    "Mileage= []\n",
    "for i in used_cars_df.Mileage:\n",
    "    if str(i).endswith('km/kg'):\n",
    "        i = i[:-5]\n",
    "        i = float(i)*1.40\n",
    "        Mileage.append(float(i))\n",
    "    elif str(i).endswith('kmpl'):\n",
    "        i = i[:-4]\n",
    "        Mileage.append(float(i))\n",
    "    else:\n",
    "        Mileage.append(np.nan)\n",
    "used_cars_df['Mileage'] = Mileage\n",
    "# Engine - All entries have CC at the end which we can remove\n",
    "Engine= []\n",
    "for i in used_cars_df.Engine:\n",
    "    if str(i).endswith('CC'):\n",
    "        i = i[:-2]\n",
    "        Engine.append(float(i))\n",
    "    else:\n",
    "        Engine.append(np.nan)\n",
    "used_cars_df['Engine'] = Engine\n",
    "# Power - All entries have bhp at the end which we can remove\n",
    "# Power - There are some null bhp values that has to be converted to nan first\n",
    "used_cars_df['Power'] = used_cars_df['Power'].replace('null bhp', np.nan)\n",
    "Power = []\n",
    "for i in used_cars_df.Power:\n",
    "    if str(i).endswith('bhp'):\n",
    "        i = i[:-3]\n",
    "        Power.append(float(i))\n",
    "    else:\n",
    "        Power.append(np.nan)\n",
    "used_cars_df['Power'] = Power\n",
    "print(used_cars_df.head())"
   ]
  },
  {
   "cell_type": "markdown",
   "id": "190ca3e0",
   "metadata": {},
   "source": [
    "Deal with missing data (do not just drop rows or columns without justifying this)."
   ]
  },
  {
   "cell_type": "code",
   "execution_count": 7,
   "id": "78366e21",
   "metadata": {},
   "outputs": [
    {
     "name": "stdout",
     "output_type": "stream",
     "text": [
      "Year                 False\n",
      "Kilometers_Driven    False\n",
      "Fuel_Type            False\n",
      "Transmission         False\n",
      "Owner_Type           False\n",
      "Mileage              False\n",
      "Engine               False\n",
      "Power                False\n",
      "Seats                False\n",
      "Price                False\n",
      "dtype: bool\n",
      "   Year  Kilometers_Driven Fuel_Type Transmission Owner_Type  Mileage  Engine  \\\n",
      "0  2010              72000       CNG       Manual      First    37.24   998.0   \n",
      "1  2015              41000    Diesel       Manual      First    19.67  1582.0   \n",
      "2  2011              46000    Petrol       Manual      First    18.20  1199.0   \n",
      "3  2012              87000    Diesel       Manual      First    20.77  1248.0   \n",
      "4  2013              40670    Diesel    Automatic     Second    15.20  1968.0   \n",
      "\n",
      "    Power  Seats  Price  \n",
      "0   58.16    5.0   1.75  \n",
      "1  126.20    5.0  12.50  \n",
      "2   88.70    5.0   4.50  \n",
      "3   88.76    7.0   6.00  \n",
      "4  140.80    5.0  17.74  \n"
     ]
    }
   ],
   "source": [
    "# Convert Mileage/Engine/Power to float type\n",
    "used_cars_df['Mileage'] = used_cars_df['Mileage'].astype(float)\n",
    "used_cars_df['Engine'] = used_cars_df['Engine'].astype(float)\n",
    "used_cars_df['Power'] = used_cars_df['Power'].astype(float)\n",
    "# Fill missing data with median values for Mileage/Engine/Power/Seats\n",
    "used_cars_df['Mileage'].fillna(value=pd.to_numeric(used_cars_df['Mileage']).median(), inplace=True)\n",
    "used_cars_df['Engine'].fillna(value=pd.to_numeric(used_cars_df['Engine']).median(), inplace=True)\n",
    "used_cars_df['Power'].fillna(value=pd.to_numeric(used_cars_df['Power']).median(), inplace=True)\n",
    "used_cars_df['Seats'].fillna(value=pd.to_numeric(used_cars_df['Seats']).median(), inplace=True)\n",
    "# Find if any columns still have null values\n",
    "print(used_cars_df.isna().any())\n",
    "print(used_cars_df.head())"
   ]
  },
  {
   "cell_type": "markdown",
   "id": "b23a11b0",
   "metadata": {},
   "source": [
    "Create dummy variables if necessary."
   ]
  },
  {
   "cell_type": "code",
   "execution_count": 8,
   "id": "7cb44c02",
   "metadata": {},
   "outputs": [
    {
     "name": "stdout",
     "output_type": "stream",
     "text": [
      "Year                   int64\n",
      "Kilometers_Driven      int64\n",
      "Fuel_Type             object\n",
      "Transmission          object\n",
      "Owner_Type            object\n",
      "Mileage              float64\n",
      "Engine               float64\n",
      "Power                float64\n",
      "Seats                float64\n",
      "Price                float64\n",
      "dtype: object\n",
      "Diesel      3205\n",
      "Petrol      2746\n",
      "CNG           56\n",
      "LPG           10\n",
      "Electric       2\n",
      "Name: Fuel_Type, dtype: int64\n",
      "Manual       4299\n",
      "Automatic    1720\n",
      "Name: Transmission, dtype: int64\n",
      "First             4929\n",
      "Second             968\n",
      "Third              113\n",
      "Fourth & Above       9\n",
      "Name: Owner_Type, dtype: int64\n",
      "   Year  Kilometers_Driven  Owner_Type  Mileage  Engine   Power  Seats  Price  \\\n",
      "0  2010              72000           1    37.24   998.0   58.16    5.0   1.75   \n",
      "1  2015              41000           1    19.67  1582.0  126.20    5.0  12.50   \n",
      "2  2011              46000           1    18.20  1199.0   88.70    5.0   4.50   \n",
      "3  2012              87000           1    20.77  1248.0   88.76    7.0   6.00   \n",
      "4  2013              40670           2    15.20  1968.0  140.80    5.0  17.74   \n",
      "\n",
      "   Fuel_Type_Diesel  Fuel_Type_Electric  Fuel_Type_LPG  Fuel_Type_Petrol  \\\n",
      "0                 0                   0              0                 0   \n",
      "1                 1                   0              0                 0   \n",
      "2                 0                   0              0                 1   \n",
      "3                 1                   0              0                 0   \n",
      "4                 1                   0              0                 0   \n",
      "\n",
      "   Transmission_Manual  \n",
      "0                    1  \n",
      "1                    1  \n",
      "2                    1  \n",
      "3                    1  \n",
      "4                    0  \n",
      "              Year  Kilometers_Driven   Owner_Type      Mileage       Engine  \\\n",
      "count  6019.000000       6.019000e+03  6019.000000  6019.000000  6019.000000   \n",
      "mean   2013.358199       5.873838e+04     1.202858    18.242456  1620.509221   \n",
      "std       3.269742       9.126884e+04     0.456356     4.878822   599.635458   \n",
      "min    1998.000000       1.710000e+02     1.000000     0.000000    72.000000   \n",
      "25%    2011.000000       3.400000e+04     1.000000    15.260000  1198.000000   \n",
      "50%    2014.000000       5.300000e+04     1.000000    18.190000  1493.000000   \n",
      "75%    2016.000000       7.300000e+04     1.000000    21.100000  1969.000000   \n",
      "max    2019.000000       6.500000e+06     4.000000    46.956000  5998.000000   \n",
      "\n",
      "             Power        Seats        Price  Fuel_Type_Diesel  \\\n",
      "count  6019.000000  6019.000000  6019.000000       6019.000000   \n",
      "mean    112.883539     5.276790     9.479468          0.532480   \n",
      "std      53.283701     0.806346    11.187917          0.498985   \n",
      "min      34.200000     0.000000     0.440000          0.000000   \n",
      "25%      78.000000     5.000000     3.500000          0.000000   \n",
      "50%      97.700000     5.000000     5.640000          1.000000   \n",
      "75%     138.030000     5.000000     9.950000          1.000000   \n",
      "max     560.000000    10.000000   160.000000          1.000000   \n",
      "\n",
      "       Fuel_Type_Electric  Fuel_Type_LPG  Fuel_Type_Petrol  \\\n",
      "count         6019.000000    6019.000000       6019.000000   \n",
      "mean             0.000332       0.001661          0.456222   \n",
      "std              0.018227       0.040730          0.498121   \n",
      "min              0.000000       0.000000          0.000000   \n",
      "25%              0.000000       0.000000          0.000000   \n",
      "50%              0.000000       0.000000          0.000000   \n",
      "75%              0.000000       0.000000          1.000000   \n",
      "max              1.000000       1.000000          1.000000   \n",
      "\n",
      "       Transmission_Manual  \n",
      "count          6019.000000  \n",
      "mean              0.714238  \n",
      "std               0.451814  \n",
      "min               0.000000  \n",
      "25%               0.000000  \n",
      "50%               1.000000  \n",
      "75%               1.000000  \n",
      "max               1.000000  \n"
     ]
    }
   ],
   "source": [
    "# Check variable types and value of each categorical variable\n",
    "print(used_cars_df.dtypes)\n",
    "print(used_cars_df['Fuel_Type'].value_counts())\n",
    "print(used_cars_df['Transmission'].value_counts())\n",
    "print(used_cars_df['Owner_Type'].value_counts())\n",
    "# Create dummy variables for Fuel_Type with drop_first so that we just have 5 columns of 4\n",
    "Fuel_Type_Temp = pd.get_dummies(used_cars_df[['Fuel_Type']],drop_first=True)\n",
    "# Create dummy variables for Transmission with drop_first so that we just have 1 columns instead of 2\n",
    "Transmission_Temp = pd.get_dummies(used_cars_df[['Transmission']],drop_first=True)\n",
    "# Covert Owner_Type to have numerical label encoding\n",
    "used_cars_df['Owner_Type'].replace({\"First\":1,\"Second\":2,\"Third\": 3,\"Fourth & Above\":4},inplace=True)\n",
    "# Concatenate new dummy variables into dataframe and drop original columns\n",
    "used_cars_df = pd.concat([used_cars_df,Fuel_Type_Temp,Transmission_Temp],axis=1)\n",
    "used_cars_df.drop(['Fuel_Type','Transmission'],axis=1,inplace=True)\n",
    "print(used_cars_df.head())\n",
    "print(used_cars_df.describe())"
   ]
  },
  {
   "cell_type": "markdown",
   "id": "909666af",
   "metadata": {},
   "source": [
    "# DSC 550\n",
    "# Week 5\n",
    "# Project Milestone 3\n",
    "# Author: Muthukumar Kadhirvel\n",
    "# 8/5/2022"
   ]
  },
  {
   "cell_type": "markdown",
   "id": "3eaf4aab",
   "metadata": {},
   "source": [
    "Split the Used Cars data into training (80%) and test (20%) where the Price column is the target."
   ]
  },
  {
   "cell_type": "code",
   "execution_count": 9,
   "id": "7dfdb9c0",
   "metadata": {},
   "outputs": [
    {
     "name": "stdout",
     "output_type": "stream",
     "text": [
      "Size of training data is 4815\n",
      "Size of test data is 1204\n"
     ]
    }
   ],
   "source": [
    "from sklearn.model_selection import train_test_split\n",
    "# Create features series with all columns other than Price\n",
    "features = used_cars_df.drop(['Price'], axis = 1)\n",
    "# Create target series with Price\n",
    "target = used_cars_df.Price\n",
    "# Create training and test data with test size being 20%\n",
    "features_train, features_test, target_train, target_test = train_test_split(features, target, test_size=0.2)\n",
    "print('Size of training data is',len(features_train))\n",
    "print('Size of test data is',len(features_test))"
   ]
  },
  {
   "cell_type": "markdown",
   "id": "0473cf3a",
   "metadata": {},
   "source": [
    "We will first start off with Linear Regression and find the R2 score on the training and test data. We are using R2 score instead of accuracy as accuracy is used as a metric for classification problems and R2 score is used as an evaluation metric for regression problems."
   ]
  },
  {
   "cell_type": "code",
   "execution_count": 10,
   "id": "925a0ca8",
   "metadata": {},
   "outputs": [
    {
     "name": "stdout",
     "output_type": "stream",
     "text": [
      "R2 score with Linear Regression on Training data is 0.6826158287838031\n",
      "R2 score with Linear Regression on Test data is 0.7384677115622555\n"
     ]
    }
   ],
   "source": [
    "# Use LinearRegression on the training data\n",
    "from sklearn.linear_model import LinearRegression\n",
    "linear = LinearRegression()\n",
    "# Fit Linear Regression on the test data\n",
    "linear.fit(features_train, target_train)\n",
    "# Calculate R2 value for Linear Regression on training and test data\n",
    "test_predicted = linear.predict(features_test)\n",
    "print('R2 score with Linear Regression on Training data is',linear.score(features_train, target_train))\n",
    "print('R2 score with Linear Regression on Test data is',linear.score(features_test, target_test))"
   ]
  },
  {
   "cell_type": "markdown",
   "id": "7dea5090",
   "metadata": {},
   "source": [
    "Since the R2 score is low we will try a new model with Standard Scaler and PCA and reduce the number of dimensions"
   ]
  },
  {
   "cell_type": "code",
   "execution_count": 11,
   "id": "8cd31f3a",
   "metadata": {},
   "outputs": [
    {
     "name": "stdout",
     "output_type": "stream",
     "text": [
      "Original number of features: 12\n",
      "Reduced number of features: 8\n",
      "R2 score with Linear Regression on PCA Training data is 0.6520230826467918\n",
      "R2 score with Linear Regression on PCA Test data is 0.690167072911122\n"
     ]
    }
   ],
   "source": [
    "from sklearn.preprocessing import StandardScaler\n",
    "from sklearn.decomposition import PCA\n",
    "# Standardize the feature matrix on training data\n",
    "features_train_matrix = StandardScaler().fit_transform(features_train)\n",
    "# Fit and transform a PCA on training data that will retain 90% of variance\n",
    "pca = PCA(n_components=0.90, whiten=True)\n",
    "features_train_pca = pca.fit_transform(features_train_matrix)\n",
    "# PCA transformed training matrix\n",
    "print(\"Original number of features:\", features_train.shape[1])\n",
    "print(\"Reduced number of features:\", features_train_pca.shape[1])\n",
    "# Standardize the feature matrix on test data\n",
    "features_test_matrix = StandardScaler().fit_transform(features_test)\n",
    "# Transform a PCA on test data that will retain 90% of variance\n",
    "features_test_pca = pca.transform(features_test_matrix)\n",
    "# Use LinearRegression on the PCA transformed train data\n",
    "linear_pca = LinearRegression()\n",
    "linear_pca.fit(features_train_pca, target_train)\n",
    "# Calculate R2 value for PCA transformed training data by applying Linear Regression on training and test data\n",
    "test_predicted_pca = linear_pca.predict(features_test_pca)\n",
    "print('R2 score with Linear Regression on PCA Training data is',linear_pca.score(features_train_pca, target_train))\n",
    "print('R2 score with Linear Regression on PCA Test data is',linear_pca.score(features_test_pca, target_test))"
   ]
  },
  {
   "cell_type": "markdown",
   "id": "4ca78d03",
   "metadata": {},
   "source": [
    "Since the R2 score is lower than Linear Regression we will try Random Forest Regression model"
   ]
  },
  {
   "cell_type": "code",
   "execution_count": 12,
   "id": "5df7af6f",
   "metadata": {},
   "outputs": [
    {
     "name": "stdout",
     "output_type": "stream",
     "text": [
      "R2 score with Random Forest Regression on Training data is 0.9820510047771309\n",
      "R2 score with Random Forest Regression on Test data is 0.9005597516648428\n"
     ]
    }
   ],
   "source": [
    "# Use RandomForestRegressor on the training data\n",
    "from sklearn.ensemble import RandomForestRegressor\n",
    "forest = RandomForestRegressor()\n",
    "# Fit Random Forest Regression on the test data\n",
    "forest.fit(features_train, target_train)\n",
    "# Calculate R2 value for Random Forest Regression on training and test data\n",
    "test_predicted_forest = forest.predict(features_test)\n",
    "print('R2 score with Random Forest Regression on Training data is',forest.score(features_train, target_train))\n",
    "print('R2 score with Random Forest Regression on Test data is',forest.score(features_test, target_test))"
   ]
  },
  {
   "cell_type": "markdown",
   "id": "6e795baa",
   "metadata": {},
   "source": [
    "With Linear Regression we got 68% R2 score on training data and 74% R2 score on test data - This is the base model and the R2 score is very low for us to use it properly to model future incoming data.                                                        With PCA transformed Linear Regression we got 65% R2 score on training data and 69% R2 score on test data - The R2 score of the model reduced as typically PCA is used when we have a lot of features but in our case we just had 12 and so PCA did not yield a favorable R2 score compared to Linear Regression but we were able to reduce the features from 12 to 8.                            With Random Forests Regression we got 98% R2 score on training data and 90% R2 score on test data - This likely means that we have nonlinear relationships in our data. This is a great value and we can continue using this model for our data set to effectively calculate the price of any used car that can come in.                                                                Since this is not a classification problem we cannot use accuracy as a metric. So we are going to use R2 score metric which makes a lot more sense in these type of problems."
   ]
  },
  {
   "cell_type": "code",
   "execution_count": null,
   "id": "eef1e44a",
   "metadata": {},
   "outputs": [],
   "source": []
  }
 ],
 "metadata": {
  "kernelspec": {
   "display_name": "Python 3 (ipykernel)",
   "language": "python",
   "name": "python3"
  },
  "language_info": {
   "codemirror_mode": {
    "name": "ipython",
    "version": 3
   },
   "file_extension": ".py",
   "mimetype": "text/x-python",
   "name": "python",
   "nbconvert_exporter": "python",
   "pygments_lexer": "ipython3",
   "version": "3.9.7"
  }
 },
 "nbformat": 4,
 "nbformat_minor": 5
}
