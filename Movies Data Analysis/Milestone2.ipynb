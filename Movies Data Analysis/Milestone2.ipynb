{
 "cells": [
  {
   "cell_type": "markdown",
   "id": "643d9745",
   "metadata": {},
   "source": [
    "# DSC 540\n",
    "# Week 5&6\n",
    "# Author: Muthukumar Kadhirvel\n",
    "# 4/23/2022"
   ]
  },
  {
   "cell_type": "markdown",
   "id": "7c3842ef",
   "metadata": {},
   "source": [
    "# Milestone 2"
   ]
  },
  {
   "cell_type": "markdown",
   "id": "dfb85db8",
   "metadata": {},
   "source": [
    "Step 1 - Drop Unnecessary columns                                                                                               \n",
    "We are dropping the following columns as they have data that is irrelevant to the problem we are trying to solve.               \n",
    "genres/homepage/keywords/spoken_languages/original_title/overview/production_companies/production_countries/status/tagline/id/\n",
    "popularity"
   ]
  },
  {
   "cell_type": "code",
   "execution_count": 1,
   "id": "37ab567e",
   "metadata": {},
   "outputs": [
    {
     "name": "stdout",
     "output_type": "stream",
     "text": [
      "      budget original_language release_date     revenue  runtime  \\\n",
      "0  237000000                en   12/10/2009  2787965087    162.0   \n",
      "1  300000000                en    5/19/2007   961000000    169.0   \n",
      "2  245000000                en   10/26/2015   880674609    148.0   \n",
      "3  250000000                en    7/16/2012  1084939099    165.0   \n",
      "4  260000000                en     3/7/2012   284139100    132.0   \n",
      "\n",
      "                                      title  vote_average  vote_count  \n",
      "0                                    Avatar           7.2       11800  \n",
      "1  Pirates of the Caribbean: At World's End           6.9        4500  \n",
      "2                                   Spectre           6.3        4466  \n",
      "3                     The Dark Knight Rises           7.6        9106  \n",
      "4                               John Carter           6.1        2124  \n"
     ]
    }
   ],
   "source": [
    "import pandas as pd\n",
    "import matplotlib.pyplot as plt\n",
    "import numpy as np\n",
    "movies_df = pd.read_csv(\"movies.csv\")\n",
    "movies_df = movies_df.drop(['genres','homepage','keywords','spoken_languages','original_title','overview'], axis=1)\n",
    "movies_df = movies_df.drop(['production_companies','production_countries','status','tagline','id','popularity'], axis=1)\n",
    "print(movies_df.head())\n",
    "size_initial = len(movies_df)"
   ]
  },
  {
   "cell_type": "markdown",
   "id": "89263f9d",
   "metadata": {},
   "source": [
    "Step 2 - Rearrange & Replace Headers                                                                                           \n",
    "We will rearrange the columns to make more sense in the order of impactful columns.                                             \n",
    "We will change the vote_average column to be rating as it makes more sense and similarly original_language to be language."
   ]
  },
  {
   "cell_type": "code",
   "execution_count": 2,
   "id": "50e3782e",
   "metadata": {},
   "outputs": [
    {
     "name": "stdout",
     "output_type": "stream",
     "text": [
      "                                      title release_date     budget  \\\n",
      "0                                    Avatar   12/10/2009  237000000   \n",
      "1  Pirates of the Caribbean: At World's End    5/19/2007  300000000   \n",
      "2                                   Spectre   10/26/2015  245000000   \n",
      "3                     The Dark Knight Rises    7/16/2012  250000000   \n",
      "4                               John Carter     3/7/2012  260000000   \n",
      "\n",
      "      revenue  runtime  rating  vote_count language  \n",
      "0  2787965087    162.0     7.2       11800       en  \n",
      "1   961000000    169.0     6.9        4500       en  \n",
      "2   880674609    148.0     6.3        4466       en  \n",
      "3  1084939099    165.0     7.6        9106       en  \n",
      "4   284139100    132.0     6.1        2124       en  \n"
     ]
    }
   ],
   "source": [
    "movies_df = movies_df[['title','release_date','budget','revenue','runtime','vote_average','vote_count','original_language']]\n",
    "movies_df.rename(columns = {'vote_average':'rating', 'original_language':'language'}, inplace = True)\n",
    "print(movies_df.head())"
   ]
  },
  {
   "cell_type": "markdown",
   "id": "4658e94e",
   "metadata": {},
   "source": [
    "Step 3 - Find Duplicates                                                                                                       \n",
    "Title is the key field in our data frame and hence we check for duplicates and find 6 duplicates (3 sets of movies with same names) and hence we are removing them"
   ]
  },
  {
   "cell_type": "code",
   "execution_count": 3,
   "id": "cb070498",
   "metadata": {},
   "outputs": [
    {
     "name": "stdout",
     "output_type": "stream",
     "text": [
      "Does title have duplicates - True\n",
      "                                      title release_date     budget  \\\n",
      "0                                    Avatar   12/10/2009  237000000   \n",
      "1  Pirates of the Caribbean: At World's End    5/19/2007  300000000   \n",
      "2                                   Spectre   10/26/2015  245000000   \n",
      "3                     The Dark Knight Rises    7/16/2012  250000000   \n",
      "4                               John Carter     3/7/2012  260000000   \n",
      "\n",
      "      revenue  runtime  rating  vote_count language  \n",
      "0  2787965087    162.0     7.2       11800       en  \n",
      "1   961000000    169.0     6.9        4500       en  \n",
      "2   880674609    148.0     6.3        4466       en  \n",
      "3  1084939099    165.0     7.6        9106       en  \n",
      "4   284139100    132.0     6.1        2124       en  \n"
     ]
    }
   ],
   "source": [
    "print(\"Does title have duplicates - \"+str(any(movies_df.title.duplicated())))\n",
    "duplicate_df = movies_df[movies_df.duplicated(['title'])]\n",
    "movies_df.drop_duplicates(subset =\"title\", keep = False, inplace = True)\n",
    "print(movies_df.head())"
   ]
  },
  {
   "cell_type": "markdown",
   "id": "62f912f7",
   "metadata": {},
   "source": [
    "Step 4 - Format data into a more readable format                                                                               \n",
    "language is not in a readable format and change them to have the correct language value using iso639 python package"
   ]
  },
  {
   "cell_type": "code",
   "execution_count": 4,
   "id": "f292c8eb",
   "metadata": {},
   "outputs": [
    {
     "name": "stdout",
     "output_type": "stream",
     "text": [
      "Requirement already satisfied: iso639-lang in c:\\users\\muthu\\anaconda3\\lib\\site-packages (2.0.1)\n",
      "Note: you may need to restart the kernel to use updated packages.\n",
      "                                      title release_date     budget  \\\n",
      "0                                    Avatar   12/10/2009  237000000   \n",
      "1  Pirates of the Caribbean: At World's End    5/19/2007  300000000   \n",
      "2                                   Spectre   10/26/2015  245000000   \n",
      "3                     The Dark Knight Rises    7/16/2012  250000000   \n",
      "4                               John Carter     3/7/2012  260000000   \n",
      "\n",
      "      revenue  runtime  rating  vote_count language  \n",
      "0  2787965087    162.0     7.2       11800  English  \n",
      "1   961000000    169.0     6.9        4500  English  \n",
      "2   880674609    148.0     6.3        4466  English  \n",
      "3  1084939099    165.0     7.6        9106  English  \n",
      "4   284139100    132.0     6.1        2124  English  \n"
     ]
    }
   ],
   "source": [
    "%pip install iso639-lang\n",
    "from iso639 import Lang\n",
    "movies_df['language'] = movies_df['language'].apply(lambda x: Lang(x).name)\n",
    "print(movies_df.head())"
   ]
  },
  {
   "cell_type": "markdown",
   "id": "fdda832a",
   "metadata": {},
   "source": [
    "Step 5 - Identify outliers and bad data    \n",
    "Convert all 0 of numeric columns to null and then check for null values in all the columns.                                     \n",
    "title/language has no null values which is good because title is the key field.                                                 \n",
    "budget/revenue/rating/vote_count/release_date/runtime have null values and so needs to be dropped for rows with null values.   \n",
    "Then we create boxplots for budget/revenue/runtime/rating/vote_count and then remove outliers.                                 \n",
    "We started with 4803 rows and ended up with 2757 rows."
   ]
  },
  {
   "cell_type": "code",
   "execution_count": 5,
   "id": "fb03ab1d",
   "metadata": {},
   "outputs": [
    {
     "name": "stdout",
     "output_type": "stream",
     "text": [
      "Does title have NaN - False\n",
      "Does release_date have NaN - True\n",
      "Does budget have NaN - True\n",
      "Does revenue have NaN - True\n",
      "Does runtime have NaN - True\n",
      "Does rating have NaN - True\n",
      "Does vote_count have NaN - True\n",
      "Does language have NaN - False\n"
     ]
    },
    {
     "data": {
      "image/png": "[encoded data removed]",
      "text/plain": [
       "<Figure size 432x288 with 1 Axes>"
      ]
     },
     "metadata": {
      "needs_background": "light"
     },
     "output_type": "display_data"
    },
    {
     "data": {
      "image/png": "[encoded data removed]",
      "text/plain": [
       "<Figure size 432x288 with 1 Axes>"
      ]
     },
     "metadata": {
      "needs_background": "light"
     },
     "output_type": "display_data"
    },
    {
     "data": {
      "image/png": "[encoded data removed]",
      "text/plain": [
       "<Figure size 432x288 with 1 Axes>"
      ]
     },
     "metadata": {
      "needs_background": "light"
     },
     "output_type": "display_data"
    },
    {
     "data": {
      "image/png": "[encoded data removed]",
      "text/plain": [
       "<Figure size 432x288 with 1 Axes>"
      ]
     },
     "metadata": {
      "needs_background": "light"
     },
     "output_type": "display_data"
    },
    {
     "data": {
      "image/png": "[encoded data removed]",
      "text/plain": [
       "<Figure size 432x288 with 1 Axes>"
      ]
     },
     "metadata": {
      "needs_background": "light"
     },
     "output_type": "display_data"
    },
    {
     "name": "stdout",
     "output_type": "stream",
     "text": [
      "                      title release_date       budget      revenue  runtime  \\\n",
      "97            Shin Godzilla    7/29/2016   15000000.0   77000000.0    120.0   \n",
      "151                 Beowulf    11/5/2007   70000000.0  195735876.0    115.0   \n",
      "155  Fun with Dick and Jane   12/21/2005  100000000.0  202026112.0     90.0   \n",
      "180    The Bourne Ultimatum     8/3/2007   70000000.0  442824138.0    115.0   \n",
      "188                    Salt    7/21/2010  110000000.0  293329073.0    100.0   \n",
      "\n",
      "     rating  vote_count  language  \n",
      "97      6.5       143.0  Japanese  \n",
      "151     5.5       841.0   English  \n",
      "155     5.9       627.0   English  \n",
      "180     7.3      2888.0   English  \n",
      "188     6.2      2093.0   English  \n",
      "Original size was 4803 and new size is 2757\n"
     ]
    }
   ],
   "source": [
    "movies_df.release_date = movies_df.release_date.replace(0, np.nan)\n",
    "movies_df.budget = movies_df.budget.replace(0, np.nan)\n",
    "movies_df.revenue = movies_df.revenue.replace(0, np.nan)\n",
    "movies_df.runtime = movies_df.runtime.replace(0, np.nan)\n",
    "movies_df.rating = movies_df.rating.replace(0, np.nan)\n",
    "movies_df.vote_count = movies_df.vote_count.replace(0, np.nan)\n",
    "print(\"Does title have NaN - \"+str(any(movies_df.title.isnull())))\n",
    "print(\"Does release_date have NaN - \"+str(any(movies_df.release_date.isnull())))\n",
    "print(\"Does budget have NaN - \"+str(any(movies_df.budget.isnull())))\n",
    "print(\"Does revenue have NaN - \"+str(any(movies_df.revenue.isnull())))\n",
    "print(\"Does runtime have NaN - \"+str(any(movies_df.runtime.isnull())))\n",
    "print(\"Does rating have NaN - \"+str(any(movies_df.rating.isnull())))\n",
    "print(\"Does vote_count have NaN - \"+str(any(movies_df.vote_count.isnull())))\n",
    "print(\"Does language have NaN - \"+str(any(movies_df.language.isnull())))\n",
    "movies_df = movies_df.dropna()\n",
    "plt.boxplot(movies_df.budget)\n",
    "plt.title(\"Budget Plots\")\n",
    "plt.show()\n",
    "plt.boxplot(movies_df.revenue)\n",
    "plt.title(\"Revenue Plots\")\n",
    "plt.show()\n",
    "plt.boxplot(movies_df.runtime)\n",
    "plt.title(\"Runtime Plots\")\n",
    "plt.show()\n",
    "plt.boxplot(movies_df.rating)\n",
    "plt.title(\"Rating Plots\")\n",
    "plt.show()\n",
    "plt.boxplot(movies_df.vote_count)\n",
    "plt.title(\"Vote Count Plots\")\n",
    "plt.show()\n",
    "movies_df = movies_df.drop(movies_df[movies_df.budget > 125000000].index)\n",
    "movies_df = movies_df.drop(movies_df[movies_df.revenue > 500000000].index)\n",
    "movies_df = movies_df.drop(movies_df[movies_df.runtime > 160].index)\n",
    "movies_df = movies_df.drop(movies_df[movies_df.rating < 4].index)\n",
    "movies_df = movies_df.drop(movies_df[movies_df.vote_count > 3000].index)\n",
    "print(movies_df.head())\n",
    "print(\"Original size was \"+str(size_initial)+\" and new size is \"+str(len(movies_df)))"
   ]
  },
  {
   "cell_type": "code",
   "execution_count": null,
   "id": "8718defa",
   "metadata": {},
   "outputs": [],
   "source": []
  }
 ],
 "metadata": {
  "kernelspec": {
   "display_name": "Python 3 (ipykernel)",
   "language": "python",
   "name": "python3"
  },
  "language_info": {
   "codemirror_mode": {
    "name": "ipython",
    "version": 3
   },
   "file_extension": ".py",
   "mimetype": "text/x-python",
   "name": "python",
   "nbconvert_exporter": "python",
   "pygments_lexer": "ipython3",
   "version": "3.9.7"
  }
 },
 "nbformat": 4,
 "nbformat_minor": 5
}
