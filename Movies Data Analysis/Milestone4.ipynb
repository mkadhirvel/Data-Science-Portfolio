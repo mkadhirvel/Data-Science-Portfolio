{
 "cells": [
  {
   "cell_type": "markdown",
   "id": "3089109e",
   "metadata": {},
   "source": [
    "# DSC 540\n",
    "# Week 9&10\n",
    "# Author: Muthukumar Kadhirvel\n",
    "# 5/20/2022"
   ]
  },
  {
   "cell_type": "markdown",
   "id": "cde0719a",
   "metadata": {},
   "source": [
    "# Milestone 4"
   ]
  },
  {
   "cell_type": "code",
   "execution_count": 1,
   "id": "449e5c02",
   "metadata": {},
   "outputs": [
    {
     "name": "stdout",
     "output_type": "stream",
     "text": [
      "                                             Title       Year Rated  \\\n",
      "0                                      Zeg 'ns Aaa  1981–2010   N/A   \n",
      "1  A.A.A. Massaggiatrice bella presenza offresi...       1972   N/A   \n",
      "2                                   A.A.A. Achille       2003   N/A   \n",
      "3        AAA, la película: Sin límite en el tiempo       2010   N/A   \n",
      "4       AAA Championships at Fartown, Huddersfield       1901   N/A   \n",
      "\n",
      "      Released Runtime         Genre           Director  \\\n",
      "0  01 Jan 1981  23 min        Comedy                N/A   \n",
      "1  28 Jul 1972  85 min      Thriller    Demofilo Fidani   \n",
      "2  13 Jun 2003  82 min        Comedy  Giovanni Albanese   \n",
      "3  22 Jan 2010  90 min     Animation  Alberto Rodriguez   \n",
      "4  30 Jul 2007   4 min  Short, Sport                N/A   \n",
      "\n",
      "                                  Writer  \\\n",
      "0   Chiem van Houweninge, Alexander Pola   \n",
      "1  Demofilo Fidani, Mila Vitelli Valenza   \n",
      "2                        Vincenzo Cerami   \n",
      "3                David Hernández Miranda   \n",
      "4                                    N/A   \n",
      "\n",
      "                                           Actors  \\\n",
      "0    Carry Tefsen, Sjoukje Hooymaayer, John Leddy   \n",
      "1  Simonetta Vitelli, Jerry Colman, Raffaele Curi   \n",
      "2   Sergio Rubini, Hélène Sevaux, Paolo Bonacelli   \n",
      "3    César Arias, Jorge Badillo, Manuel Campuzano   \n",
      "4                                             N/A   \n",
      "\n",
      "                                                Plot  ... imdbRating  \\\n",
      "0  Sitcom related to the daily life of Dr. Lydia ...  ...        6.6   \n",
      "1  The father of a bourgeois family murders all t...  ...        5.1   \n",
      "2                                                N/A  ...        6.4   \n",
      "3  In the world of wrestling, hatred between \"rud...  ...        5.7   \n",
      "4                                                N/A  ...        5.9   \n",
      "\n",
      "  imdbVotes     imdbID    Type totalSeasons Response  DVD BoxOffice  \\\n",
      "0       303  tt0062614  series           13     True  NaN       NaN   \n",
      "1       152  tt0068162   movie          NaN     True  N/A       N/A   \n",
      "2        98  tt0264330   movie          NaN     True  N/A       N/A   \n",
      "3        61  tt1484065   movie          NaN     True  N/A       N/A   \n",
      "4        33  tt1669078   movie          NaN     True  N/A       N/A   \n",
      "\n",
      "  Production Website  \n",
      "0        NaN     NaN  \n",
      "1        N/A     N/A  \n",
      "2        N/A     N/A  \n",
      "3        N/A     N/A  \n",
      "4        N/A     N/A  \n",
      "\n",
      "[5 rows x 26 columns]\n"
     ]
    }
   ],
   "source": [
    "# Create a pandas dataframe based on the OMDB API\n",
    "import urllib.request, urllib.parse, urllib.error\n",
    "import json\n",
    "import requests\n",
    "import itertools\n",
    "import pandas as pd\n",
    "import matplotlib.pyplot as plt\n",
    "import numpy as np\n",
    "with open('APIkeys.json') as f:\n",
    "    key = json.load(f)\n",
    "    secretapikey = key['key']\n",
    "serviceurl = 'http://www.omdbapi.com/?'\n",
    "apikey = '&apikey='+secretapikey\n",
    "movie_list = []\n",
    "# Search the movie based on the imdbID in the OMDB API from the get_imdb_ID function\n",
    "def search_movie(imdbID):\n",
    "    url = serviceurl + urllib.parse.urlencode({'i':str(imdbID)})+apikey\n",
    "    response = requests.get(url)\n",
    "    movie_data = response.json()\n",
    "    if movie_data['Response'] == 'True':\n",
    "        movie_list.append(movie_data)\n",
    "# Call OMDB API with the three byte search string and it can return upto 10 rows per call\n",
    "#   Use the returned imdbID and call search_movie to return the actual movie details\n",
    "def get_imdb_ID(movie):\n",
    "    url = serviceurl + urllib.parse.urlencode({'s':str(movie)})+apikey\n",
    "    response = requests.get(url)\n",
    "    movie_data = response.json()\n",
    "    if movie_data['Response'] == 'True':\n",
    "        for i in range(int(movie_data['totalResults'])):\n",
    "            if i <= 9:\n",
    "                search_movie(movie_data['Search'][i]['imdbID'])\n",
    "# Using itertools generate the keywords list that has various 3 byte search combinations of alphabets\n",
    "alphabets = ['a', 'b', 'c', 'd', 'e', 'f', 'g', 'h', 'i', 'j', 'k', 'l', 'm', 'n', 'o', 'p', 'q', 'r', 's', 't', 'u', 'v', 'w', 'x', 'y', 'z']\n",
    "keywords = list(itertools.product(alphabets, repeat = 3))\n",
    "for i in itertools.islice(keywords, 1000):\n",
    "    search_string = ''.join(i)\n",
    "    get_imdb_ID(search_string)\n",
    "movie_orig_df = pd.DataFrame(movie_list)\n",
    "size_initial = len(movie_orig_df)\n",
    "print(movie_orig_df.head())"
   ]
  },
  {
   "cell_type": "markdown",
   "id": "3dacf8a8",
   "metadata": {},
   "source": [
    "Step 1 - Drop unnecessary rows                                                                                              \n",
    "We are passing all the rows that have the Type as movie"
   ]
  },
  {
   "cell_type": "code",
   "execution_count": 2,
   "id": "7895bc4c",
   "metadata": {},
   "outputs": [
    {
     "name": "stdout",
     "output_type": "stream",
     "text": [
      "                                               Title  Year Rated     Released  \\\n",
      "1    A.A.A. Massaggiatrice bella presenza offresi...  1972   N/A  28 Jul 1972   \n",
      "2                                     A.A.A. Achille  2003   N/A  13 Jun 2003   \n",
      "3          AAA, la película: Sin límite en el tiempo  2010   N/A  22 Jan 2010   \n",
      "4         AAA Championships at Fartown, Huddersfield  1901   N/A  30 Jul 2007   \n",
      "5  Las AAA son las tres armas: Carta abierta de R...  1979   N/A          N/A   \n",
      "\n",
      "  Runtime               Genre           Director  \\\n",
      "1  85 min            Thriller    Demofilo Fidani   \n",
      "2  82 min              Comedy  Giovanni Albanese   \n",
      "3  90 min           Animation  Alberto Rodriguez   \n",
      "4   4 min        Short, Sport                N/A   \n",
      "5  20 min  Documentary, Short        Jorge Denti   \n",
      "\n",
      "                                  Writer  \\\n",
      "1  Demofilo Fidani, Mila Vitelli Valenza   \n",
      "2                        Vincenzo Cerami   \n",
      "3                David Hernández Miranda   \n",
      "4                                    N/A   \n",
      "5                                    N/A   \n",
      "\n",
      "                                           Actors  \\\n",
      "1  Simonetta Vitelli, Jerry Colman, Raffaele Curi   \n",
      "2   Sergio Rubini, Hélène Sevaux, Paolo Bonacelli   \n",
      "3    César Arias, Jorge Badillo, Manuel Campuzano   \n",
      "4                                             N/A   \n",
      "5                                             N/A   \n",
      "\n",
      "                                                Plot  ... imdbRating  \\\n",
      "1  The father of a bourgeois family murders all t...  ...        5.1   \n",
      "2                                                N/A  ...        6.4   \n",
      "3  In the world of wrestling, hatred between \"rud...  ...        5.7   \n",
      "4                                                N/A  ...        5.9   \n",
      "5  Short about the disappearance of the body of t...  ...        7.8   \n",
      "\n",
      "  imdbVotes     imdbID   Type totalSeasons Response  DVD BoxOffice Production  \\\n",
      "1       152  tt0068162  movie          NaN     True  N/A       N/A        N/A   \n",
      "2        98  tt0264330  movie          NaN     True  N/A       N/A        N/A   \n",
      "3        61  tt1484065  movie          NaN     True  N/A       N/A        N/A   \n",
      "4        33  tt1669078  movie          NaN     True  N/A       N/A        N/A   \n",
      "5        25  tt0307911  movie          NaN     True  N/A       N/A        N/A   \n",
      "\n",
      "  Website  \n",
      "1     N/A  \n",
      "2     N/A  \n",
      "3     N/A  \n",
      "4     N/A  \n",
      "5     N/A  \n",
      "\n",
      "[5 rows x 26 columns]\n"
     ]
    }
   ],
   "source": [
    "movie_df = movie_orig_df.loc[movie_orig_df['Type'] == 'movie']\n",
    "print(movie_df.head())"
   ]
  },
  {
   "cell_type": "markdown",
   "id": "1e50d17c",
   "metadata": {},
   "source": [
    "Step 2 - Drop Unnecessary columns                                                                                               \n",
    "We are dropping the following columns as they have data that is irrelevant to the problem we are trying to solve.\n",
    "Rated/Released/Plot/Awards/Poster/Ratings/Metascore/Type/totalSeasons/Response/DVD/BoxOffice/Production/Website"
   ]
  },
  {
   "cell_type": "code",
   "execution_count": 3,
   "id": "fc1761ab",
   "metadata": {},
   "outputs": [
    {
     "name": "stdout",
     "output_type": "stream",
     "text": [
      "                                               Title  Year Runtime  \\\n",
      "1    A.A.A. Massaggiatrice bella presenza offresi...  1972  85 min   \n",
      "2                                     A.A.A. Achille  2003  82 min   \n",
      "3          AAA, la película: Sin límite en el tiempo  2010  90 min   \n",
      "4         AAA Championships at Fartown, Huddersfield  1901   4 min   \n",
      "5  Las AAA son las tres armas: Carta abierta de R...  1979  20 min   \n",
      "\n",
      "                Genre           Director  \\\n",
      "1            Thriller    Demofilo Fidani   \n",
      "2              Comedy  Giovanni Albanese   \n",
      "3           Animation  Alberto Rodriguez   \n",
      "4        Short, Sport                N/A   \n",
      "5  Documentary, Short        Jorge Denti   \n",
      "\n",
      "                                  Writer  \\\n",
      "1  Demofilo Fidani, Mila Vitelli Valenza   \n",
      "2                        Vincenzo Cerami   \n",
      "3                David Hernández Miranda   \n",
      "4                                    N/A   \n",
      "5                                    N/A   \n",
      "\n",
      "                                           Actors Language         Country  \\\n",
      "1  Simonetta Vitelli, Jerry Colman, Raffaele Curi  Italian           Italy   \n",
      "2   Sergio Rubini, Hélène Sevaux, Paolo Bonacelli  Italian           Italy   \n",
      "3    César Arias, Jorge Badillo, Manuel Campuzano  Spanish          Mexico   \n",
      "4                                             N/A     None  United Kingdom   \n",
      "5                                             N/A  Spanish       Argentina   \n",
      "\n",
      "  imdbRating imdbVotes     imdbID  \n",
      "1        5.1       152  tt0068162  \n",
      "2        6.4        98  tt0264330  \n",
      "3        5.7        61  tt1484065  \n",
      "4        5.9        33  tt1669078  \n",
      "5        7.8        25  tt0307911  \n"
     ]
    }
   ],
   "source": [
    "movie_df = movie_df.drop(['Rated','Released','Plot','Awards','Poster','Ratings','Metascore'], axis=1)\n",
    "movie_df = movie_df.drop(['Type','totalSeasons','Response','DVD','BoxOffice','Production','Website'], axis=1)\n",
    "print(movie_df.head())"
   ]
  },
  {
   "cell_type": "markdown",
   "id": "4dad5afc",
   "metadata": {},
   "source": [
    "Step 3 - Find Duplicates                                                                                                       \n",
    "Title is the key field in our data frame and hence we check for duplicates and we are removing them"
   ]
  },
  {
   "cell_type": "code",
   "execution_count": 4,
   "id": "69e324da",
   "metadata": {},
   "outputs": [
    {
     "name": "stdout",
     "output_type": "stream",
     "text": [
      "Does title have duplicates - True\n",
      "                                               Title  Year Runtime  \\\n",
      "1    A.A.A. Massaggiatrice bella presenza offresi...  1972  85 min   \n",
      "2                                     A.A.A. Achille  2003  82 min   \n",
      "3          AAA, la película: Sin límite en el tiempo  2010  90 min   \n",
      "4         AAA Championships at Fartown, Huddersfield  1901   4 min   \n",
      "5  Las AAA son las tres armas: Carta abierta de R...  1979  20 min   \n",
      "\n",
      "                Genre           Director  \\\n",
      "1            Thriller    Demofilo Fidani   \n",
      "2              Comedy  Giovanni Albanese   \n",
      "3           Animation  Alberto Rodriguez   \n",
      "4        Short, Sport                N/A   \n",
      "5  Documentary, Short        Jorge Denti   \n",
      "\n",
      "                                  Writer  \\\n",
      "1  Demofilo Fidani, Mila Vitelli Valenza   \n",
      "2                        Vincenzo Cerami   \n",
      "3                David Hernández Miranda   \n",
      "4                                    N/A   \n",
      "5                                    N/A   \n",
      "\n",
      "                                           Actors Language         Country  \\\n",
      "1  Simonetta Vitelli, Jerry Colman, Raffaele Curi  Italian           Italy   \n",
      "2   Sergio Rubini, Hélène Sevaux, Paolo Bonacelli  Italian           Italy   \n",
      "3    César Arias, Jorge Badillo, Manuel Campuzano  Spanish          Mexico   \n",
      "4                                             N/A     None  United Kingdom   \n",
      "5                                             N/A  Spanish       Argentina   \n",
      "\n",
      "  imdbRating imdbVotes     imdbID  \n",
      "1        5.1       152  tt0068162  \n",
      "2        6.4        98  tt0264330  \n",
      "3        5.7        61  tt1484065  \n",
      "4        5.9        33  tt1669078  \n",
      "5        7.8        25  tt0307911  \n"
     ]
    }
   ],
   "source": [
    "print(\"Does title have duplicates - \"+str(any(movie_df.Title.duplicated())))\n",
    "movie_df.drop_duplicates(subset =\"Title\", keep = False, inplace = True)\n",
    "print(movie_df.head())"
   ]
  },
  {
   "cell_type": "markdown",
   "id": "ec74d8e6",
   "metadata": {},
   "source": [
    "Step 4 - Format data into a more readable format                                                                               \n",
    "runtime column has value as min which can be removed to make it a more readable format and also in hours"
   ]
  },
  {
   "cell_type": "code",
   "execution_count": 5,
   "id": "eac512ef",
   "metadata": {},
   "outputs": [
    {
     "name": "stdout",
     "output_type": "stream",
     "text": [
      "                                               Title  Year Runtime  \\\n",
      "1    A.A.A. Massaggiatrice bella presenza offresi...  1972      85   \n",
      "2                                     A.A.A. Achille  2003      82   \n",
      "3          AAA, la película: Sin límite en el tiempo  2010      90   \n",
      "4         AAA Championships at Fartown, Huddersfield  1901       4   \n",
      "5  Las AAA son las tres armas: Carta abierta de R...  1979      20   \n",
      "\n",
      "                Genre           Director  \\\n",
      "1            Thriller    Demofilo Fidani   \n",
      "2              Comedy  Giovanni Albanese   \n",
      "3           Animation  Alberto Rodriguez   \n",
      "4        Short, Sport                N/A   \n",
      "5  Documentary, Short        Jorge Denti   \n",
      "\n",
      "                                  Writer  \\\n",
      "1  Demofilo Fidani, Mila Vitelli Valenza   \n",
      "2                        Vincenzo Cerami   \n",
      "3                David Hernández Miranda   \n",
      "4                                    N/A   \n",
      "5                                    N/A   \n",
      "\n",
      "                                           Actors Language         Country  \\\n",
      "1  Simonetta Vitelli, Jerry Colman, Raffaele Curi  Italian           Italy   \n",
      "2   Sergio Rubini, Hélène Sevaux, Paolo Bonacelli  Italian           Italy   \n",
      "3    César Arias, Jorge Badillo, Manuel Campuzano  Spanish          Mexico   \n",
      "4                                             N/A     None  United Kingdom   \n",
      "5                                             N/A  Spanish       Argentina   \n",
      "\n",
      "  imdbRating imdbVotes     imdbID  \n",
      "1        5.1       152  tt0068162  \n",
      "2        6.4        98  tt0264330  \n",
      "3        5.7        61  tt1484065  \n",
      "4        5.9        33  tt1669078  \n",
      "5        7.8        25  tt0307911  \n"
     ]
    }
   ],
   "source": [
    "movie_df['Runtime'] = movie_df['Runtime'].str.strip('min')\n",
    "movie_df['Runtime'] = movie_df['Runtime'].str.strip()\n",
    "movie_df['Runtime'] = movie_df.Runtime.replace('N/A', np.nan)\n",
    "movie_df = movie_df.dropna(subset=['Runtime'])\n",
    "# For rows with value as X h Y min, we need to format it into Z where Z = X*60 + Y\n",
    "for indx, i in enumerate(movie_df['Runtime']):\n",
    "    if str(i).find('h') != -1:\n",
    "        hour_min_list = i.rsplit('h',2)\n",
    "        movie_df['Runtime'].iloc[indx] = str(int(hour_min_list[0].strip())*60 + int(hour_min_list[1].strip()))\n",
    "print(movie_df.head())"
   ]
  },
  {
   "cell_type": "markdown",
   "id": "25c0f070",
   "metadata": {},
   "source": [
    "Step 5 - Identify outliers and bad data    \n",
    "We create boxplots for Runtime and then remove outliers.                                 \n",
    "We started with 4803 rows and ended up with 2757 rows."
   ]
  },
  {
   "cell_type": "code",
   "execution_count": 6,
   "id": "e579c083",
   "metadata": {},
   "outputs": [
    {
     "data": {
      "image/png": "[encoded data removed]",
      "text/plain": [
       "<Figure size 432x288 with 1 Axes>"
      ]
     },
     "metadata": {
      "needs_background": "light"
     },
     "output_type": "display_data"
    },
    {
     "name": "stdout",
     "output_type": "stream",
     "text": [
      "                                               Title  Year  Runtime  \\\n",
      "1    A.A.A. Massaggiatrice bella presenza offresi...  1972       85   \n",
      "2                                     A.A.A. Achille  2003       82   \n",
      "3          AAA, la película: Sin límite en el tiempo  2010       90   \n",
      "4         AAA Championships at Fartown, Huddersfield  1901        4   \n",
      "5  Las AAA son las tres armas: Carta abierta de R...  1979       20   \n",
      "\n",
      "                Genre           Director  \\\n",
      "1            Thriller    Demofilo Fidani   \n",
      "2              Comedy  Giovanni Albanese   \n",
      "3           Animation  Alberto Rodriguez   \n",
      "4        Short, Sport                N/A   \n",
      "5  Documentary, Short        Jorge Denti   \n",
      "\n",
      "                                  Writer  \\\n",
      "1  Demofilo Fidani, Mila Vitelli Valenza   \n",
      "2                        Vincenzo Cerami   \n",
      "3                David Hernández Miranda   \n",
      "4                                    N/A   \n",
      "5                                    N/A   \n",
      "\n",
      "                                           Actors Language         Country  \\\n",
      "1  Simonetta Vitelli, Jerry Colman, Raffaele Curi  Italian           Italy   \n",
      "2   Sergio Rubini, Hélène Sevaux, Paolo Bonacelli  Italian           Italy   \n",
      "3    César Arias, Jorge Badillo, Manuel Campuzano  Spanish          Mexico   \n",
      "4                                             N/A     None  United Kingdom   \n",
      "5                                             N/A  Spanish       Argentina   \n",
      "\n",
      "  imdbRating imdbVotes     imdbID  \n",
      "1        5.1       152  tt0068162  \n",
      "2        6.4        98  tt0264330  \n",
      "3        5.7        61  tt1484065  \n",
      "4        5.9        33  tt1669078  \n",
      "5        7.8        25  tt0307911  \n",
      "Original size was 811 and new size is 407\n"
     ]
    }
   ],
   "source": [
    "movie_df['Runtime'] = pd.to_numeric(movie_df['Runtime'], errors='coerce')\n",
    "plt.boxplot(movie_df['Runtime'])\n",
    "plt.title(\"Runtime Plots\")\n",
    "plt.show()\n",
    "movie_df = movie_df.drop(movie_df[movie_df['Runtime'] > 200].index)\n",
    "print(movie_df.head())\n",
    "print(\"Original size was \"+str(size_initial)+\" and new size is \"+str(len(movie_df)))"
   ]
  },
  {
   "cell_type": "code",
   "execution_count": null,
   "id": "fffecdec",
   "metadata": {},
   "outputs": [],
   "source": []
  }
 ],
 "metadata": {
  "kernelspec": {
   "display_name": "Python 3 (ipykernel)",
   "language": "python",
   "name": "python3"
  },
  "language_info": {
   "codemirror_mode": {
    "name": "ipython",
    "version": 3
   },
   "file_extension": ".py",
   "mimetype": "text/x-python",
   "name": "python",
   "nbconvert_exporter": "python",
   "pygments_lexer": "ipython3",
   "version": "3.9.7"
  }
 },
 "nbformat": 4,
 "nbformat_minor": 5
}
